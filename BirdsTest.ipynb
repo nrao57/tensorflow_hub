{
  "nbformat": 4,
  "nbformat_minor": 0,
  "metadata": {
    "colab": {
      "name": "BirdsTest",
      "provenance": [],
      "collapsed_sections": [],
      "mount_file_id": "1vOkCiGk4C_ZvXIv_ws95Bq39UuvN8p2T",
      "authorship_tag": "ABX9TyPTt/qPg0pZ4/lK5VqpWc22",
      "include_colab_link": true
    },
    "kernelspec": {
      "name": "python3",
      "display_name": "Python 3"
    },
    "language_info": {
      "name": "python"
    }
  },
  "cells": [
    {
      "cell_type": "markdown",
      "metadata": {
        "id": "view-in-github",
        "colab_type": "text"
      },
      "source": [
        "<a href=\"https://colab.research.google.com/github/nrao57/tensorflow_hub/blob/main/BirdsTest.ipynb\" target=\"_parent\"><img src=\"https://colab.research.google.com/assets/colab-badge.svg\" alt=\"Open In Colab\"/></a>"
      ]
    },
    {
      "cell_type": "markdown",
      "metadata": {
        "id": "GRljsZW9wXqh"
      },
      "source": [
        "# Import and Process the Image to Classify"
      ]
    },
    {
      "cell_type": "code",
      "metadata": {
        "id": "zSzZyeinsoN6"
      },
      "source": [
        "from PIL import Image\n",
        "import numpy as np"
      ],
      "execution_count": null,
      "outputs": []
    },
    {
      "cell_type": "markdown",
      "metadata": {
        "id": "-wXFZsnPucXl"
      },
      "source": [
        "Import and Process the image"
      ]
    },
    {
      "cell_type": "code",
      "metadata": {
        "colab": {
          "base_uri": "https://localhost:8080/"
        },
        "id": "_YHv_4cLuaJ0",
        "outputId": "8d9153de-581b-4af4-c277-67ba4543703e"
      },
      "source": [
        "# Open Image\n",
        "img_pil = Image.open(\"/content/bird_images/external-content.duckduckgo.com.jpeg\").resize((224, 224), Image.ANTIALIAS)\n",
        "print(\"image mode (can be L, RGB, CMYK): \" + str(img_pil.mode))\n",
        "# Cast image to numpy array\n",
        "img = np.array(img_pil)\n",
        "print(\"image shape: \" + str(img.shape))\n",
        "# scale the image to [0, 1]\n",
        "print(\"image max value: \" + str(img.max()))\n",
        "img_scaled = np.absolute(img) / img.max()\n",
        "print(\"image max value after scaling: \" + str(img_scaled.max()))\n",
        "\n"
      ],
      "execution_count": 53,
      "outputs": [
        {
          "output_type": "stream",
          "text": [
            "image mode (can be L, RGB, CMYK): RGB\n",
            "image shape: (224, 224, 3)\n",
            "image max value: 255\n",
            "image max value after scaling: 1.0\n"
          ],
          "name": "stdout"
        }
      ]
    },
    {
      "cell_type": "code",
      "metadata": {
        "colab": {
          "base_uri": "https://localhost:8080/"
        },
        "id": "IWnfNS6XtABS",
        "outputId": "ba3fb21e-7650-4fe5-d6b7-ecc32a25bffc"
      },
      "source": [
        "# Img after scaling\n",
        "print(img_scaled)"
      ],
      "execution_count": 48,
      "outputs": [
        {
          "output_type": "stream",
          "text": [
            "[[0.496 0.492 0.488 ... 0.532 0.524 0.532]\n",
            " [0.488 0.484 0.48  ... 0.516 0.508 0.508]\n",
            " [0.476 0.472 0.468 ... 0.5   0.492 0.492]\n",
            " ...\n",
            " [0.416 0.368 0.48  ... 0.68  0.68  0.692]\n",
            " [0.428 0.376 0.516 ... 0.684 0.692 0.696]\n",
            " [0.436 0.38  0.548 ... 0.692 0.696 0.708]]\n"
          ],
          "name": "stdout"
        }
      ]
    },
    {
      "cell_type": "markdown",
      "metadata": {
        "id": "M8nidczkwnuQ"
      },
      "source": [
        "# Import Tensorflow Hub Model as keras layer"
      ]
    },
    {
      "cell_type": "markdown",
      "metadata": {
        "id": "nHCbLnHNvhc-"
      },
      "source": [
        "[Import tensorflow_hub model as keras layer](https://www.tensorflow.org/hub/tf2_saved_model)\n",
        "\n",
        "\n"
      ]
    },
    {
      "cell_type": "code",
      "metadata": {
        "colab": {
          "base_uri": "https://localhost:8080/"
        },
        "id": "Wv-B1UJZrK8y",
        "outputId": "b17aeba1-d263-4ae1-b011-5f3b2cc12a08"
      },
      "source": [
        "# TF2 version\n",
        "import tensorflow.compat.v2 as tf\n",
        "import tensorflow_hub as hub\n",
        "\n",
        "m = hub.KerasLayer('https://tfhub.dev/google/aiy/vision/classifier/birds_V1/1')"
      ],
      "execution_count": null,
      "outputs": [
        {
          "output_type": "stream",
          "text": [
            "INFO:tensorflow:Saver not created because there are no variables in the graph to restore\n"
          ],
          "name": "stdout"
        },
        {
          "output_type": "stream",
          "text": [
            "INFO:tensorflow:Saver not created because there are no variables in the graph to restore\n"
          ],
          "name": "stderr"
        }
      ]
    },
    {
      "cell_type": "markdown",
      "metadata": {
        "id": "G-s92Hnt3Adx"
      },
      "source": [
        "Based on the model's documentation, the input to the layer should be 3-channel RGB color images of size 224 x 224, scaled to [0, 1]. And it should be in an array with other images for batch prediction"
      ]
    },
    {
      "cell_type": "markdown",
      "metadata": {
        "id": "wkxG4CwGwu6b"
      },
      "source": [
        "# Use imported model to make prediction"
      ]
    },
    {
      "cell_type": "code",
      "metadata": {
        "id": "s0ZW-ePMtF6a"
      },
      "source": [
        "img_batch = np.array([img_scaled])\n",
        "probabilities = m(img_batch)\n",
        "class_ids = tf.argmax(probabilities, axis=-1)"
      ],
      "execution_count": 55,
      "outputs": []
    },
    {
      "cell_type": "code",
      "metadata": {
        "id": "9RD8xWm3tKH5",
        "colab": {
          "base_uri": "https://localhost:8080/"
        },
        "outputId": "51390048-586e-47e6-81b8-961f17ddf854"
      },
      "source": [
        "class_ids"
      ],
      "execution_count": 58,
      "outputs": [
        {
          "output_type": "execute_result",
          "data": {
            "text/plain": [
              "<tf.Tensor: shape=(1,), dtype=int64, numpy=array([704])>"
            ]
          },
          "metadata": {
            "tags": []
          },
          "execution_count": 58
        }
      ]
    },
    {
      "cell_type": "markdown",
      "metadata": {
        "id": "GFgMmAeU5tze"
      },
      "source": [
        "since the class_id with the highest probability is 704, we check the label map for the index 704 to see the species of bird\n",
        "\n",
        "which is:\n",
        "**Setophaga magnolia**"
      ]
    },
    {
      "cell_type": "markdown",
      "metadata": {
        "id": "n7HOE7IO5kNg"
      },
      "source": [
        "# Deploy to Production with Vertex AI"
      ]
    },
    {
      "cell_type": "markdown",
      "metadata": {
        "id": "ImNqfKP_QWMW"
      },
      "source": [
        "\n",
        "\n",
        "1.   Download and Unzip Model from TensorFlow Hub\n",
        "2.   Create new GCS Cloud Storage Bucket\n",
        "3.   Upload model to GCS Bucket\n",
        "4.   Import model into Vertex AI from cloud storage bucket\n",
        "5.   Deploy to Endpoint\n",
        "6.   Send requests to endpoint in [this format](https://cloud.google.com/vertex-ai/docs/predictions/online-predictions-custom-models)\n"
      ]
    },
    {
      "cell_type": "markdown",
      "metadata": {
        "id": "5Xv6Y9P8wzmq"
      },
      "source": [
        "# Resources"
      ]
    },
    {
      "cell_type": "markdown",
      "metadata": {
        "id": "6dAIqBdL9Au3"
      },
      "source": [
        "[TensorFlow Hub for real world impact | Session](https://www.youtube.com/watch?v=BE5nkhFe3AE)"
      ]
    },
    {
      "cell_type": "markdown",
      "metadata": {
        "id": "GWNj-p35w2_6"
      },
      "source": [
        "https://medium.com/ymedialabs-innovation/how-to-use-tensorflow-hub-with-code-examples-9100edec29af"
      ]
    },
    {
      "cell_type": "markdown",
      "metadata": {
        "id": "mvl7s6ftDJRH"
      },
      "source": [
        "https://cloud.google.com/blog/topics/developers-practitioners/serve-tensorflow-model-google-cloud-vertex-ai"
      ]
    },
    {
      "cell_type": "code",
      "metadata": {
        "id": "sNcHzTDDw2G-"
      },
      "source": [
        ""
      ],
      "execution_count": null,
      "outputs": []
    }
  ]
}